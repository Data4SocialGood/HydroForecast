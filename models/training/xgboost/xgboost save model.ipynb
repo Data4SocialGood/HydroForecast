{
 "cells": [
  {
   "cell_type": "code",
   "execution_count": 1,
   "id": "4ead0729",
   "metadata": {},
   "outputs": [],
   "source": [
    "import os\n",
    "import pandas as pd\n",
    "import numpy as np\n",
    "import matplotlib.pyplot as plt\n",
    "import warnings\n",
    "warnings.filterwarnings('ignore')\n",
    "from sklearn.model_selection import train_test_split \n",
    "from sklearn.metrics import mean_squared_error ,r2_score,mean_absolute_error,mean_absolute_percentage_error\n",
    "import xgboost as xgb"
   ]
  },
  {
   "cell_type": "code",
   "execution_count": 2,
   "id": "b5935948",
   "metadata": {},
   "outputs": [],
   "source": [
    "os.chdir('C:\\\\Users\\\\tsekourash\\\\Desktop\\\\eydap')"
   ]
  },
  {
   "cell_type": "code",
   "execution_count": 3,
   "id": "4e3796aa",
   "metadata": {},
   "outputs": [
    {
     "name": "stdout",
     "output_type": "stream",
     "text": [
      "(62917, 8)\n"
     ]
    },
    {
     "data": {
      "text/html": [
       "<div>\n",
       "<style scoped>\n",
       "    .dataframe tbody tr th:only-of-type {\n",
       "        vertical-align: middle;\n",
       "    }\n",
       "\n",
       "    .dataframe tbody tr th {\n",
       "        vertical-align: top;\n",
       "    }\n",
       "\n",
       "    .dataframe thead th {\n",
       "        text-align: right;\n",
       "    }\n",
       "</style>\n",
       "<table border=\"1\" class=\"dataframe\">\n",
       "  <thead>\n",
       "    <tr style=\"text-align: right;\">\n",
       "      <th></th>\n",
       "      <th>Date</th>\n",
       "      <th>Value</th>\n",
       "      <th>isCovid</th>\n",
       "      <th>isHoliday</th>\n",
       "      <th>isChristmas</th>\n",
       "      <th>isWeekday</th>\n",
       "      <th>isSummer</th>\n",
       "      <th>index</th>\n",
       "    </tr>\n",
       "  </thead>\n",
       "  <tbody>\n",
       "    <tr>\n",
       "      <th>0</th>\n",
       "      <td>2020-03-13 00:00:00</td>\n",
       "      <td>1.22</td>\n",
       "      <td>1</td>\n",
       "      <td>0</td>\n",
       "      <td>0</td>\n",
       "      <td>1</td>\n",
       "      <td>0</td>\n",
       "      <td>1</td>\n",
       "    </tr>\n",
       "    <tr>\n",
       "      <th>1</th>\n",
       "      <td>2020-03-14 00:00:00</td>\n",
       "      <td>1.33</td>\n",
       "      <td>1</td>\n",
       "      <td>0</td>\n",
       "      <td>0</td>\n",
       "      <td>0</td>\n",
       "      <td>0</td>\n",
       "      <td>1</td>\n",
       "    </tr>\n",
       "    <tr>\n",
       "      <th>2</th>\n",
       "      <td>2020-03-15 00:00:00</td>\n",
       "      <td>0.20</td>\n",
       "      <td>1</td>\n",
       "      <td>0</td>\n",
       "      <td>0</td>\n",
       "      <td>0</td>\n",
       "      <td>0</td>\n",
       "      <td>1</td>\n",
       "    </tr>\n",
       "    <tr>\n",
       "      <th>3</th>\n",
       "      <td>2020-03-16 00:00:00</td>\n",
       "      <td>0.07</td>\n",
       "      <td>1</td>\n",
       "      <td>0</td>\n",
       "      <td>0</td>\n",
       "      <td>1</td>\n",
       "      <td>0</td>\n",
       "      <td>1</td>\n",
       "    </tr>\n",
       "    <tr>\n",
       "      <th>4</th>\n",
       "      <td>2020-03-17 00:00:00</td>\n",
       "      <td>1.07</td>\n",
       "      <td>1</td>\n",
       "      <td>0</td>\n",
       "      <td>0</td>\n",
       "      <td>1</td>\n",
       "      <td>0</td>\n",
       "      <td>1</td>\n",
       "    </tr>\n",
       "  </tbody>\n",
       "</table>\n",
       "</div>"
      ],
      "text/plain": [
       "                  Date  Value  isCovid  isHoliday  isChristmas  isWeekday  \\\n",
       "0  2020-03-13 00:00:00   1.22        1          0            0          1   \n",
       "1  2020-03-14 00:00:00   1.33        1          0            0          0   \n",
       "2  2020-03-15 00:00:00   0.20        1          0            0          0   \n",
       "3  2020-03-16 00:00:00   0.07        1          0            0          1   \n",
       "4  2020-03-17 00:00:00   1.07        1          0            0          1   \n",
       "\n",
       "   isSummer  index  \n",
       "0         0      1  \n",
       "1         0      1  \n",
       "2         0      1  \n",
       "3         0      1  \n",
       "4         0      1  "
      ]
     },
     "execution_count": 3,
     "metadata": {},
     "output_type": "execute_result"
    }
   ],
   "source": [
    "df = pd.read_csv(\"concat_data.csv\")\n",
    "print(df.shape)\n",
    "df.head(5)"
   ]
  },
  {
   "cell_type": "code",
   "execution_count": 4,
   "id": "1cb26786",
   "metadata": {},
   "outputs": [
    {
     "name": "stdout",
     "output_type": "stream",
     "text": [
      "(62917, 8)\n"
     ]
    },
    {
     "data": {
      "text/html": [
       "<div>\n",
       "<style scoped>\n",
       "    .dataframe tbody tr th:only-of-type {\n",
       "        vertical-align: middle;\n",
       "    }\n",
       "\n",
       "    .dataframe tbody tr th {\n",
       "        vertical-align: top;\n",
       "    }\n",
       "\n",
       "    .dataframe thead th {\n",
       "        text-align: right;\n",
       "    }\n",
       "</style>\n",
       "<table border=\"1\" class=\"dataframe\">\n",
       "  <thead>\n",
       "    <tr style=\"text-align: right;\">\n",
       "      <th></th>\n",
       "      <th>Date</th>\n",
       "      <th>Value</th>\n",
       "      <th>isCovid</th>\n",
       "      <th>isHoliday</th>\n",
       "      <th>isChristmas</th>\n",
       "      <th>isWeekday</th>\n",
       "      <th>isSummer</th>\n",
       "      <th>index</th>\n",
       "    </tr>\n",
       "  </thead>\n",
       "  <tbody>\n",
       "    <tr>\n",
       "      <th>0</th>\n",
       "      <td>2020-03-13</td>\n",
       "      <td>1.22</td>\n",
       "      <td>1</td>\n",
       "      <td>0</td>\n",
       "      <td>0</td>\n",
       "      <td>1</td>\n",
       "      <td>0</td>\n",
       "      <td>1</td>\n",
       "    </tr>\n",
       "    <tr>\n",
       "      <th>1</th>\n",
       "      <td>2020-03-14</td>\n",
       "      <td>1.33</td>\n",
       "      <td>1</td>\n",
       "      <td>0</td>\n",
       "      <td>0</td>\n",
       "      <td>0</td>\n",
       "      <td>0</td>\n",
       "      <td>1</td>\n",
       "    </tr>\n",
       "    <tr>\n",
       "      <th>2</th>\n",
       "      <td>2020-03-15</td>\n",
       "      <td>0.20</td>\n",
       "      <td>1</td>\n",
       "      <td>0</td>\n",
       "      <td>0</td>\n",
       "      <td>0</td>\n",
       "      <td>0</td>\n",
       "      <td>1</td>\n",
       "    </tr>\n",
       "    <tr>\n",
       "      <th>3</th>\n",
       "      <td>2020-03-16</td>\n",
       "      <td>0.07</td>\n",
       "      <td>1</td>\n",
       "      <td>0</td>\n",
       "      <td>0</td>\n",
       "      <td>1</td>\n",
       "      <td>0</td>\n",
       "      <td>1</td>\n",
       "    </tr>\n",
       "    <tr>\n",
       "      <th>4</th>\n",
       "      <td>2020-03-17</td>\n",
       "      <td>1.07</td>\n",
       "      <td>1</td>\n",
       "      <td>0</td>\n",
       "      <td>0</td>\n",
       "      <td>1</td>\n",
       "      <td>0</td>\n",
       "      <td>1</td>\n",
       "    </tr>\n",
       "  </tbody>\n",
       "</table>\n",
       "</div>"
      ],
      "text/plain": [
       "        Date  Value  isCovid  isHoliday  isChristmas  isWeekday  isSummer  \\\n",
       "0 2020-03-13   1.22        1          0            0          1         0   \n",
       "1 2020-03-14   1.33        1          0            0          0         0   \n",
       "2 2020-03-15   0.20        1          0            0          0         0   \n",
       "3 2020-03-16   0.07        1          0            0          1         0   \n",
       "4 2020-03-17   1.07        1          0            0          1         0   \n",
       "\n",
       "   index  \n",
       "0      1  \n",
       "1      1  \n",
       "2      1  \n",
       "3      1  \n",
       "4      1  "
      ]
     },
     "execution_count": 4,
     "metadata": {},
     "output_type": "execute_result"
    }
   ],
   "source": [
    "df[\"Date\"]=pd.to_datetime(df[\"Date\"])\n",
    "print(df.shape)\n",
    "df.head(5)"
   ]
  },
  {
   "cell_type": "code",
   "execution_count": 5,
   "id": "3a67c62f",
   "metadata": {},
   "outputs": [
    {
     "name": "stdout",
     "output_type": "stream",
     "text": [
      "(62917, 3)\n"
     ]
    },
    {
     "data": {
      "text/html": [
       "<div>\n",
       "<style scoped>\n",
       "    .dataframe tbody tr th:only-of-type {\n",
       "        vertical-align: middle;\n",
       "    }\n",
       "\n",
       "    .dataframe tbody tr th {\n",
       "        vertical-align: top;\n",
       "    }\n",
       "\n",
       "    .dataframe thead th {\n",
       "        text-align: right;\n",
       "    }\n",
       "</style>\n",
       "<table border=\"1\" class=\"dataframe\">\n",
       "  <thead>\n",
       "    <tr style=\"text-align: right;\">\n",
       "      <th></th>\n",
       "      <th>Date</th>\n",
       "      <th>Value</th>\n",
       "      <th>index</th>\n",
       "    </tr>\n",
       "  </thead>\n",
       "  <tbody>\n",
       "    <tr>\n",
       "      <th>0</th>\n",
       "      <td>2020-03-13</td>\n",
       "      <td>1.22</td>\n",
       "      <td>1</td>\n",
       "    </tr>\n",
       "    <tr>\n",
       "      <th>1</th>\n",
       "      <td>2020-03-14</td>\n",
       "      <td>1.33</td>\n",
       "      <td>1</td>\n",
       "    </tr>\n",
       "    <tr>\n",
       "      <th>2</th>\n",
       "      <td>2020-03-15</td>\n",
       "      <td>0.20</td>\n",
       "      <td>1</td>\n",
       "    </tr>\n",
       "    <tr>\n",
       "      <th>3</th>\n",
       "      <td>2020-03-16</td>\n",
       "      <td>0.07</td>\n",
       "      <td>1</td>\n",
       "    </tr>\n",
       "    <tr>\n",
       "      <th>4</th>\n",
       "      <td>2020-03-17</td>\n",
       "      <td>1.07</td>\n",
       "      <td>1</td>\n",
       "    </tr>\n",
       "  </tbody>\n",
       "</table>\n",
       "</div>"
      ],
      "text/plain": [
       "        Date  Value  index\n",
       "0 2020-03-13   1.22      1\n",
       "1 2020-03-14   1.33      1\n",
       "2 2020-03-15   0.20      1\n",
       "3 2020-03-16   0.07      1\n",
       "4 2020-03-17   1.07      1"
      ]
     },
     "execution_count": 5,
     "metadata": {},
     "output_type": "execute_result"
    }
   ],
   "source": [
    "df=df[[\"Date\",\"Value\",\"index\"]]\n",
    "print(df.shape)\n",
    "df.head(5)"
   ]
  },
  {
   "cell_type": "code",
   "execution_count": 6,
   "id": "06c0863d",
   "metadata": {},
   "outputs": [
    {
     "data": {
      "text/plain": [
       "Date     0\n",
       "Value    0\n",
       "index    0\n",
       "dtype: int64"
      ]
     },
     "execution_count": 6,
     "metadata": {},
     "output_type": "execute_result"
    }
   ],
   "source": [
    "df.isna().sum()"
   ]
  },
  {
   "cell_type": "code",
   "execution_count": 7,
   "id": "77271c09",
   "metadata": {},
   "outputs": [
    {
     "name": "stdout",
     "output_type": "stream",
     "text": [
      "(62917, 3)\n"
     ]
    },
    {
     "data": {
      "text/html": [
       "<div>\n",
       "<style scoped>\n",
       "    .dataframe tbody tr th:only-of-type {\n",
       "        vertical-align: middle;\n",
       "    }\n",
       "\n",
       "    .dataframe tbody tr th {\n",
       "        vertical-align: top;\n",
       "    }\n",
       "\n",
       "    .dataframe thead th {\n",
       "        text-align: right;\n",
       "    }\n",
       "</style>\n",
       "<table border=\"1\" class=\"dataframe\">\n",
       "  <thead>\n",
       "    <tr style=\"text-align: right;\">\n",
       "      <th></th>\n",
       "      <th>Date</th>\n",
       "      <th>Value</th>\n",
       "      <th>index</th>\n",
       "    </tr>\n",
       "  </thead>\n",
       "  <tbody>\n",
       "    <tr>\n",
       "      <th>0</th>\n",
       "      <td>2020-03-13</td>\n",
       "      <td>1.22</td>\n",
       "      <td>1</td>\n",
       "    </tr>\n",
       "    <tr>\n",
       "      <th>1</th>\n",
       "      <td>2020-03-14</td>\n",
       "      <td>1.33</td>\n",
       "      <td>1</td>\n",
       "    </tr>\n",
       "    <tr>\n",
       "      <th>2</th>\n",
       "      <td>2020-03-15</td>\n",
       "      <td>0.20</td>\n",
       "      <td>1</td>\n",
       "    </tr>\n",
       "    <tr>\n",
       "      <th>3</th>\n",
       "      <td>2020-03-16</td>\n",
       "      <td>0.07</td>\n",
       "      <td>1</td>\n",
       "    </tr>\n",
       "    <tr>\n",
       "      <th>4</th>\n",
       "      <td>2020-03-17</td>\n",
       "      <td>1.07</td>\n",
       "      <td>1</td>\n",
       "    </tr>\n",
       "  </tbody>\n",
       "</table>\n",
       "</div>"
      ],
      "text/plain": [
       "        Date  Value  index\n",
       "0 2020-03-13   1.22      1\n",
       "1 2020-03-14   1.33      1\n",
       "2 2020-03-15   0.20      1\n",
       "3 2020-03-16   0.07      1\n",
       "4 2020-03-17   1.07      1"
      ]
     },
     "execution_count": 7,
     "metadata": {},
     "output_type": "execute_result"
    }
   ],
   "source": [
    "df = df.sort_index()\n",
    "print(df.shape)\n",
    "df.head(5)"
   ]
  },
  {
   "cell_type": "code",
   "execution_count": 8,
   "id": "044cf2df",
   "metadata": {},
   "outputs": [
    {
     "name": "stdout",
     "output_type": "stream",
     "text": [
      "(1676, 1)\n"
     ]
    },
    {
     "data": {
      "text/html": [
       "<div>\n",
       "<style scoped>\n",
       "    .dataframe tbody tr th:only-of-type {\n",
       "        vertical-align: middle;\n",
       "    }\n",
       "\n",
       "    .dataframe tbody tr th {\n",
       "        vertical-align: top;\n",
       "    }\n",
       "\n",
       "    .dataframe thead th {\n",
       "        text-align: right;\n",
       "    }\n",
       "</style>\n",
       "<table border=\"1\" class=\"dataframe\">\n",
       "  <thead>\n",
       "    <tr style=\"text-align: right;\">\n",
       "      <th></th>\n",
       "      <th>Value</th>\n",
       "    </tr>\n",
       "    <tr>\n",
       "      <th>Date</th>\n",
       "      <th></th>\n",
       "    </tr>\n",
       "  </thead>\n",
       "  <tbody>\n",
       "    <tr>\n",
       "      <th>2019-01-04</th>\n",
       "      <td>13.620000</td>\n",
       "    </tr>\n",
       "    <tr>\n",
       "      <th>2019-01-05</th>\n",
       "      <td>13.730000</td>\n",
       "    </tr>\n",
       "    <tr>\n",
       "      <th>2019-01-06</th>\n",
       "      <td>8.690000</td>\n",
       "    </tr>\n",
       "    <tr>\n",
       "      <th>2019-01-07</th>\n",
       "      <td>8.540000</td>\n",
       "    </tr>\n",
       "    <tr>\n",
       "      <th>2019-01-08</th>\n",
       "      <td>8.713333</td>\n",
       "    </tr>\n",
       "  </tbody>\n",
       "</table>\n",
       "</div>"
      ],
      "text/plain": [
       "                Value\n",
       "Date                 \n",
       "2019-01-04  13.620000\n",
       "2019-01-05  13.730000\n",
       "2019-01-06   8.690000\n",
       "2019-01-07   8.540000\n",
       "2019-01-08   8.713333"
      ]
     },
     "execution_count": 8,
     "metadata": {},
     "output_type": "execute_result"
    }
   ],
   "source": [
    "df=df[['Date','Value']].groupby('Date').mean()\n",
    "print(df.shape)\n",
    "df.head(5)"
   ]
  },
  {
   "cell_type": "code",
   "execution_count": 10,
   "id": "04ba97d3",
   "metadata": {},
   "outputs": [
    {
     "name": "stdout",
     "output_type": "stream",
     "text": [
      "(503, 1)\n"
     ]
    },
    {
     "data": {
      "text/html": [
       "<div>\n",
       "<style scoped>\n",
       "    .dataframe tbody tr th:only-of-type {\n",
       "        vertical-align: middle;\n",
       "    }\n",
       "\n",
       "    .dataframe tbody tr th {\n",
       "        vertical-align: top;\n",
       "    }\n",
       "\n",
       "    .dataframe thead th {\n",
       "        text-align: right;\n",
       "    }\n",
       "</style>\n",
       "<table border=\"1\" class=\"dataframe\">\n",
       "  <thead>\n",
       "    <tr style=\"text-align: right;\">\n",
       "      <th></th>\n",
       "      <th>Value</th>\n",
       "    </tr>\n",
       "    <tr>\n",
       "      <th>Date</th>\n",
       "      <th></th>\n",
       "    </tr>\n",
       "  </thead>\n",
       "  <tbody>\n",
       "    <tr>\n",
       "      <th>2021-11-10</th>\n",
       "      <td>15.098302</td>\n",
       "    </tr>\n",
       "    <tr>\n",
       "      <th>2021-11-11</th>\n",
       "      <td>16.646038</td>\n",
       "    </tr>\n",
       "    <tr>\n",
       "      <th>2021-11-12</th>\n",
       "      <td>14.988868</td>\n",
       "    </tr>\n",
       "    <tr>\n",
       "      <th>2021-11-13</th>\n",
       "      <td>14.768679</td>\n",
       "    </tr>\n",
       "    <tr>\n",
       "      <th>2021-11-14</th>\n",
       "      <td>11.516604</td>\n",
       "    </tr>\n",
       "  </tbody>\n",
       "</table>\n",
       "</div>"
      ],
      "text/plain": [
       "                Value\n",
       "Date                 \n",
       "2021-11-10  15.098302\n",
       "2021-11-11  16.646038\n",
       "2021-11-12  14.988868\n",
       "2021-11-13  14.768679\n",
       "2021-11-14  11.516604"
      ]
     },
     "execution_count": 10,
     "metadata": {},
     "output_type": "execute_result"
    }
   ],
   "source": [
    "test=df[df.index>'2021-11-09']\n",
    "print(test.shape)\n",
    "test.head(5)"
   ]
  },
  {
   "cell_type": "code",
   "execution_count": 11,
   "id": "fcaaed78",
   "metadata": {},
   "outputs": [
    {
     "name": "stdout",
     "output_type": "stream",
     "text": [
      "(1173, 1)\n"
     ]
    },
    {
     "data": {
      "text/html": [
       "<div>\n",
       "<style scoped>\n",
       "    .dataframe tbody tr th:only-of-type {\n",
       "        vertical-align: middle;\n",
       "    }\n",
       "\n",
       "    .dataframe tbody tr th {\n",
       "        vertical-align: top;\n",
       "    }\n",
       "\n",
       "    .dataframe thead th {\n",
       "        text-align: right;\n",
       "    }\n",
       "</style>\n",
       "<table border=\"1\" class=\"dataframe\">\n",
       "  <thead>\n",
       "    <tr style=\"text-align: right;\">\n",
       "      <th></th>\n",
       "      <th>Value</th>\n",
       "    </tr>\n",
       "    <tr>\n",
       "      <th>Date</th>\n",
       "      <th></th>\n",
       "    </tr>\n",
       "  </thead>\n",
       "  <tbody>\n",
       "    <tr>\n",
       "      <th>2019-01-04</th>\n",
       "      <td>13.620000</td>\n",
       "    </tr>\n",
       "    <tr>\n",
       "      <th>2019-01-05</th>\n",
       "      <td>13.730000</td>\n",
       "    </tr>\n",
       "    <tr>\n",
       "      <th>2019-01-06</th>\n",
       "      <td>8.690000</td>\n",
       "    </tr>\n",
       "    <tr>\n",
       "      <th>2019-01-07</th>\n",
       "      <td>8.540000</td>\n",
       "    </tr>\n",
       "    <tr>\n",
       "      <th>2019-01-08</th>\n",
       "      <td>8.713333</td>\n",
       "    </tr>\n",
       "  </tbody>\n",
       "</table>\n",
       "</div>"
      ],
      "text/plain": [
       "                Value\n",
       "Date                 \n",
       "2019-01-04  13.620000\n",
       "2019-01-05  13.730000\n",
       "2019-01-06   8.690000\n",
       "2019-01-07   8.540000\n",
       "2019-01-08   8.713333"
      ]
     },
     "execution_count": 11,
     "metadata": {},
     "output_type": "execute_result"
    }
   ],
   "source": [
    "train=df[df.index<='2021-11-09']\n",
    "print(train.shape)\n",
    "train.head(5)"
   ]
  },
  {
   "cell_type": "code",
   "execution_count": 12,
   "id": "d0236e3e",
   "metadata": {},
   "outputs": [
    {
     "data": {
      "image/png": "[encoded data removed]",
      "text/plain": [
       "<Figure size 1080x360 with 1 Axes>"
      ]
     },
     "metadata": {
      "needs_background": "light"
     },
     "output_type": "display_data"
    }
   ],
   "source": [
    "train.plot(style='.',\n",
    "        figsize=(15, 5),\n",
    "        title='Monthly Consumption')\n",
    "plt.show()"
   ]
  },
  {
   "cell_type": "code",
   "execution_count": 13,
   "id": "7e8883d8",
   "metadata": {},
   "outputs": [
    {
     "data": {
      "image/png": "[encoded data removed]",
      "text/plain": [
       "<Figure size 1080x360 with 1 Axes>"
      ]
     },
     "metadata": {
      "needs_background": "light"
     },
     "output_type": "display_data"
    }
   ],
   "source": [
    "test.plot(style='.',\n",
    "        figsize=(15, 5),\n",
    "        title='Monthly Consumption')\n",
    "plt.show()"
   ]
  },
  {
   "cell_type": "code",
   "execution_count": 14,
   "id": "36c44ff6",
   "metadata": {},
   "outputs": [],
   "source": [
    "def create_features(df):\n",
    "    df[\"rolling_month\"] = df['Value'].rolling(window=30).mean()\n",
    "    df[\"rolling_3month\"] = df['Value'].rolling(window=3*30).mean()\n",
    "    df[\"rolling_week\"] = df['Value'].rolling(window=7).mean()\n",
    "    df[\"shift1\"] =df['Value'].shift(1)\n",
    "    #df[\"shift7\"] =df['Value'].shift(7)\n",
    "    #df['quarter'] = df.index.quarter\n",
    "    #df['month'] = df.index.month\n",
    "    #df['year'] = df.index.year\n",
    "    #df['dayofweek'] = df.index.dayofweek\n",
    "    df=df.dropna()\n",
    "    return df"
   ]
  },
  {
   "cell_type": "code",
   "execution_count": 15,
   "id": "774696e8",
   "metadata": {},
   "outputs": [
    {
     "name": "stdout",
     "output_type": "stream",
     "text": [
      "(1084, 5)\n"
     ]
    },
    {
     "data": {
      "text/html": [
       "<div>\n",
       "<style scoped>\n",
       "    .dataframe tbody tr th:only-of-type {\n",
       "        vertical-align: middle;\n",
       "    }\n",
       "\n",
       "    .dataframe tbody tr th {\n",
       "        vertical-align: top;\n",
       "    }\n",
       "\n",
       "    .dataframe thead th {\n",
       "        text-align: right;\n",
       "    }\n",
       "</style>\n",
       "<table border=\"1\" class=\"dataframe\">\n",
       "  <thead>\n",
       "    <tr style=\"text-align: right;\">\n",
       "      <th></th>\n",
       "      <th>Value</th>\n",
       "      <th>rolling_month</th>\n",
       "      <th>rolling_3month</th>\n",
       "      <th>rolling_week</th>\n",
       "      <th>shift1</th>\n",
       "    </tr>\n",
       "    <tr>\n",
       "      <th>Date</th>\n",
       "      <th></th>\n",
       "      <th></th>\n",
       "      <th></th>\n",
       "      <th></th>\n",
       "      <th></th>\n",
       "    </tr>\n",
       "  </thead>\n",
       "  <tbody>\n",
       "    <tr>\n",
       "      <th>2019-03-29 00:00:00</th>\n",
       "      <td>7.961250</td>\n",
       "      <td>4.782292</td>\n",
       "      <td>5.273876</td>\n",
       "      <td>5.396786</td>\n",
       "      <td>7.932500</td>\n",
       "    </tr>\n",
       "    <tr>\n",
       "      <th>2019-03-30 00:00:00</th>\n",
       "      <td>6.051250</td>\n",
       "      <td>4.826292</td>\n",
       "      <td>5.189779</td>\n",
       "      <td>5.632500</td>\n",
       "      <td>7.961250</td>\n",
       "    </tr>\n",
       "    <tr>\n",
       "      <th>2019-03-31 00:00:00</th>\n",
       "      <td>4.060000</td>\n",
       "      <td>4.797417</td>\n",
       "      <td>5.082335</td>\n",
       "      <td>5.729464</td>\n",
       "      <td>6.051250</td>\n",
       "    </tr>\n",
       "    <tr>\n",
       "      <th>2019-04-01 00:00:00</th>\n",
       "      <td>4.178571</td>\n",
       "      <td>4.771077</td>\n",
       "      <td>5.032208</td>\n",
       "      <td>5.823724</td>\n",
       "      <td>4.060000</td>\n",
       "    </tr>\n",
       "    <tr>\n",
       "      <th>2019-04-01 00:15:00</th>\n",
       "      <td>0.110000</td>\n",
       "      <td>4.658827</td>\n",
       "      <td>4.938541</td>\n",
       "      <td>5.356760</td>\n",
       "      <td>4.178571</td>\n",
       "    </tr>\n",
       "  </tbody>\n",
       "</table>\n",
       "</div>"
      ],
      "text/plain": [
       "                        Value  rolling_month  rolling_3month  rolling_week  \\\n",
       "Date                                                                         \n",
       "2019-03-29 00:00:00  7.961250       4.782292        5.273876      5.396786   \n",
       "2019-03-30 00:00:00  6.051250       4.826292        5.189779      5.632500   \n",
       "2019-03-31 00:00:00  4.060000       4.797417        5.082335      5.729464   \n",
       "2019-04-01 00:00:00  4.178571       4.771077        5.032208      5.823724   \n",
       "2019-04-01 00:15:00  0.110000       4.658827        4.938541      5.356760   \n",
       "\n",
       "                       shift1  \n",
       "Date                           \n",
       "2019-03-29 00:00:00  7.932500  \n",
       "2019-03-30 00:00:00  7.961250  \n",
       "2019-03-31 00:00:00  6.051250  \n",
       "2019-04-01 00:00:00  4.060000  \n",
       "2019-04-01 00:15:00  4.178571  "
      ]
     },
     "execution_count": 15,
     "metadata": {},
     "output_type": "execute_result"
    }
   ],
   "source": [
    "train=create_features(train)\n",
    "print(train.shape)\n",
    "train.head(5)"
   ]
  },
  {
   "cell_type": "code",
   "execution_count": 16,
   "id": "e389560f",
   "metadata": {},
   "outputs": [
    {
     "name": "stdout",
     "output_type": "stream",
     "text": [
      "(414, 5)\n"
     ]
    },
    {
     "data": {
      "text/html": [
       "<div>\n",
       "<style scoped>\n",
       "    .dataframe tbody tr th:only-of-type {\n",
       "        vertical-align: middle;\n",
       "    }\n",
       "\n",
       "    .dataframe tbody tr th {\n",
       "        vertical-align: top;\n",
       "    }\n",
       "\n",
       "    .dataframe thead th {\n",
       "        text-align: right;\n",
       "    }\n",
       "</style>\n",
       "<table border=\"1\" class=\"dataframe\">\n",
       "  <thead>\n",
       "    <tr style=\"text-align: right;\">\n",
       "      <th></th>\n",
       "      <th>Value</th>\n",
       "      <th>rolling_month</th>\n",
       "      <th>rolling_3month</th>\n",
       "      <th>rolling_week</th>\n",
       "      <th>shift1</th>\n",
       "    </tr>\n",
       "    <tr>\n",
       "      <th>Date</th>\n",
       "      <th></th>\n",
       "      <th></th>\n",
       "      <th></th>\n",
       "      <th></th>\n",
       "      <th></th>\n",
       "    </tr>\n",
       "  </thead>\n",
       "  <tbody>\n",
       "    <tr>\n",
       "      <th>2022-01-22</th>\n",
       "      <td>25.222000</td>\n",
       "      <td>10.592519</td>\n",
       "      <td>12.550527</td>\n",
       "      <td>4.728083</td>\n",
       "      <td>23.914909</td>\n",
       "    </tr>\n",
       "    <tr>\n",
       "      <th>2022-01-23</th>\n",
       "      <td>22.735091</td>\n",
       "      <td>11.350355</td>\n",
       "      <td>12.635380</td>\n",
       "      <td>5.748508</td>\n",
       "      <td>25.222000</td>\n",
       "    </tr>\n",
       "    <tr>\n",
       "      <th>2022-01-24</th>\n",
       "      <td>22.844182</td>\n",
       "      <td>11.579730</td>\n",
       "      <td>12.704248</td>\n",
       "      <td>20.175296</td>\n",
       "      <td>22.735091</td>\n",
       "    </tr>\n",
       "    <tr>\n",
       "      <th>2022-01-25</th>\n",
       "      <td>24.594000</td>\n",
       "      <td>11.910563</td>\n",
       "      <td>12.810972</td>\n",
       "      <td>20.483143</td>\n",
       "      <td>22.844182</td>\n",
       "    </tr>\n",
       "    <tr>\n",
       "      <th>2022-01-26</th>\n",
       "      <td>23.279273</td>\n",
       "      <td>12.241787</td>\n",
       "      <td>12.905534</td>\n",
       "      <td>23.808753</td>\n",
       "      <td>24.594000</td>\n",
       "    </tr>\n",
       "  </tbody>\n",
       "</table>\n",
       "</div>"
      ],
      "text/plain": [
       "                Value  rolling_month  rolling_3month  rolling_week     shift1\n",
       "Date                                                                         \n",
       "2022-01-22  25.222000      10.592519       12.550527      4.728083  23.914909\n",
       "2022-01-23  22.735091      11.350355       12.635380      5.748508  25.222000\n",
       "2022-01-24  22.844182      11.579730       12.704248     20.175296  22.735091\n",
       "2022-01-25  24.594000      11.910563       12.810972     20.483143  22.844182\n",
       "2022-01-26  23.279273      12.241787       12.905534     23.808753  24.594000"
      ]
     },
     "execution_count": 16,
     "metadata": {},
     "output_type": "execute_result"
    }
   ],
   "source": [
    "test=create_features(test)\n",
    "print(test.shape)\n",
    "test.head(5)"
   ]
  },
  {
   "cell_type": "code",
   "execution_count": 17,
   "id": "d4969ef7",
   "metadata": {},
   "outputs": [],
   "source": [
    "X_train=train.drop('Value',axis=1)\n",
    "y_train=train[\"Value\"]"
   ]
  },
  {
   "cell_type": "code",
   "execution_count": 18,
   "id": "6409a743",
   "metadata": {},
   "outputs": [],
   "source": [
    "X_test=test.drop('Value',axis=1)\n",
    "y_test=test[\"Value\"]"
   ]
  },
  {
   "cell_type": "code",
   "execution_count": 19,
   "id": "a10bc6be",
   "metadata": {},
   "outputs": [
    {
     "name": "stdout",
     "output_type": "stream",
     "text": [
      "CPU times: total: 20min 1s\n",
      "Wall time: 1min 49s\n"
     ]
    }
   ],
   "source": [
    "%%time\n",
    "score = []\n",
    "\n",
    "for g in [0, 3, 6]:\n",
    "    for m in [ 5,6,7]:\n",
    "        for l in [0.03, 0.01, 0.001]:\n",
    "            for cw in [1,2,4]:\n",
    "                 for s in [0.5 ,0.7,0.9]:\n",
    "                    for l1 in [ 0.01, 10, 100]:\n",
    "                \n",
    "                        rfr = xgb.XGBRegressor(booster= \"gbtree\" ,\n",
    "                                                   objective=\"reg:squarederror\",\n",
    "                                                   eval_metric=\"rmse\",\n",
    "                                                   n_estimators=100,\n",
    "                                                   early_stopping_rounds=10,\n",
    "                                                   random_state=123,\n",
    "                                                   gamma=g,\n",
    "                                                   max_depth=m,\n",
    "                                                   learning_rate=l,\n",
    "                                                   min_child_weight=cw,\n",
    "                                                   subsample = s,\n",
    "                                                   reg_alpha = l1\n",
    "                            )\n",
    "                        rfr.fit(X_train, y_train,\n",
    "                                    eval_set=[(X_train, y_train)],\n",
    "                                    verbose=False\n",
    "                                   )\n",
    "                        score.append([    g, \n",
    "                                          m,\n",
    "                                          l,\n",
    "                                          cw,\n",
    "                                          s,\n",
    "                                          l1,\n",
    "                                          mean_squared_error(y_train, rfr.predict(X_train),squared=False)]\n",
    "                                        )\n",
    "  "
   ]
  },
  {
   "cell_type": "code",
   "execution_count": 20,
   "id": "283f8e1d",
   "metadata": {},
   "outputs": [
    {
     "name": "stdout",
     "output_type": "stream",
     "text": [
      "(729, 7)\n"
     ]
    },
    {
     "data": {
      "text/html": [
       "<div>\n",
       "<style scoped>\n",
       "    .dataframe tbody tr th:only-of-type {\n",
       "        vertical-align: middle;\n",
       "    }\n",
       "\n",
       "    .dataframe tbody tr th {\n",
       "        vertical-align: top;\n",
       "    }\n",
       "\n",
       "    .dataframe thead th {\n",
       "        text-align: right;\n",
       "    }\n",
       "</style>\n",
       "<table border=\"1\" class=\"dataframe\">\n",
       "  <thead>\n",
       "    <tr style=\"text-align: right;\">\n",
       "      <th></th>\n",
       "      <th>gamma</th>\n",
       "      <th>maxdepth</th>\n",
       "      <th>eta</th>\n",
       "      <th>child_weight</th>\n",
       "      <th>subsample</th>\n",
       "      <th>alpha</th>\n",
       "      <th>rmse</th>\n",
       "    </tr>\n",
       "  </thead>\n",
       "  <tbody>\n",
       "    <tr>\n",
       "      <th>0</th>\n",
       "      <td>0</td>\n",
       "      <td>5</td>\n",
       "      <td>0.03</td>\n",
       "      <td>1</td>\n",
       "      <td>0.5</td>\n",
       "      <td>0.01</td>\n",
       "      <td>9.238563</td>\n",
       "    </tr>\n",
       "    <tr>\n",
       "      <th>1</th>\n",
       "      <td>0</td>\n",
       "      <td>5</td>\n",
       "      <td>0.03</td>\n",
       "      <td>1</td>\n",
       "      <td>0.5</td>\n",
       "      <td>10.00</td>\n",
       "      <td>9.476789</td>\n",
       "    </tr>\n",
       "    <tr>\n",
       "      <th>2</th>\n",
       "      <td>0</td>\n",
       "      <td>5</td>\n",
       "      <td>0.03</td>\n",
       "      <td>1</td>\n",
       "      <td>0.5</td>\n",
       "      <td>100.00</td>\n",
       "      <td>11.361173</td>\n",
       "    </tr>\n",
       "    <tr>\n",
       "      <th>3</th>\n",
       "      <td>0</td>\n",
       "      <td>5</td>\n",
       "      <td>0.03</td>\n",
       "      <td>1</td>\n",
       "      <td>0.7</td>\n",
       "      <td>0.01</td>\n",
       "      <td>6.779180</td>\n",
       "    </tr>\n",
       "    <tr>\n",
       "      <th>4</th>\n",
       "      <td>0</td>\n",
       "      <td>5</td>\n",
       "      <td>0.03</td>\n",
       "      <td>1</td>\n",
       "      <td>0.7</td>\n",
       "      <td>10.00</td>\n",
       "      <td>7.142222</td>\n",
       "    </tr>\n",
       "  </tbody>\n",
       "</table>\n",
       "</div>"
      ],
      "text/plain": [
       "   gamma  maxdepth   eta  child_weight  subsample   alpha       rmse\n",
       "0      0         5  0.03             1        0.5    0.01   9.238563\n",
       "1      0         5  0.03             1        0.5   10.00   9.476789\n",
       "2      0         5  0.03             1        0.5  100.00  11.361173\n",
       "3      0         5  0.03             1        0.7    0.01   6.779180\n",
       "4      0         5  0.03             1        0.7   10.00   7.142222"
      ]
     },
     "execution_count": 20,
     "metadata": {},
     "output_type": "execute_result"
    }
   ],
   "source": [
    "rmse_df=pd.DataFrame(score,columns=[\"gamma\",\"maxdepth\",\"eta\",\"child_weight\",\"subsample\",\"alpha\",\"rmse\"])\n",
    "print(rmse_df.shape)\n",
    "rmse_df.head(5)"
   ]
  },
  {
   "cell_type": "code",
   "execution_count": 21,
   "id": "9012116b",
   "metadata": {},
   "outputs": [
    {
     "data": {
      "text/html": [
       "<div>\n",
       "<style scoped>\n",
       "    .dataframe tbody tr th:only-of-type {\n",
       "        vertical-align: middle;\n",
       "    }\n",
       "\n",
       "    .dataframe tbody tr th {\n",
       "        vertical-align: top;\n",
       "    }\n",
       "\n",
       "    .dataframe thead th {\n",
       "        text-align: right;\n",
       "    }\n",
       "</style>\n",
       "<table border=\"1\" class=\"dataframe\">\n",
       "  <thead>\n",
       "    <tr style=\"text-align: right;\">\n",
       "      <th></th>\n",
       "      <th>gamma</th>\n",
       "      <th>maxdepth</th>\n",
       "      <th>eta</th>\n",
       "      <th>child_weight</th>\n",
       "      <th>subsample</th>\n",
       "      <th>alpha</th>\n",
       "      <th>rmse</th>\n",
       "    </tr>\n",
       "  </thead>\n",
       "  <tbody>\n",
       "    <tr>\n",
       "      <th>168</th>\n",
       "      <td>0</td>\n",
       "      <td>7</td>\n",
       "      <td>0.03</td>\n",
       "      <td>1</td>\n",
       "      <td>0.9</td>\n",
       "      <td>0.01</td>\n",
       "      <td>5.0968</td>\n",
       "    </tr>\n",
       "  </tbody>\n",
       "</table>\n",
       "</div>"
      ],
      "text/plain": [
       "     gamma  maxdepth   eta  child_weight  subsample  alpha    rmse\n",
       "168      0         7  0.03             1        0.9   0.01  5.0968"
      ]
     },
     "execution_count": 21,
     "metadata": {},
     "output_type": "execute_result"
    }
   ],
   "source": [
    "rmse_df.sort_values(by=['rmse']).head(1)"
   ]
  },
  {
   "cell_type": "code",
   "execution_count": 22,
   "id": "0490204d",
   "metadata": {},
   "outputs": [
    {
     "data": {
      "text/plain": [
       "XGBRegressor(base_score=0.5, booster='gbtree', callbacks=None,\n",
       "             colsample_bylevel=1, colsample_bynode=1, colsample_bytree=1,\n",
       "             early_stopping_rounds=None, enable_categorical=False,\n",
       "             eval_metric='rmse', gamma=0, gpu_id=-1, grow_policy='depthwise',\n",
       "             importance_type=None, interaction_constraints='',\n",
       "             learning_rate=0.03, max_bin=256, max_cat_to_onehot=4,\n",
       "             max_delta_step=0, max_depth=7, max_leaves=0, min_child_weight=1,\n",
       "             missing=nan, monotone_constraints='()', n_estimators=500, n_jobs=0,\n",
       "             num_parallel_tree=1, predictor='auto', random_state=123,\n",
       "             reg_alpha=0.01, reg_lambda=1, ...)"
      ]
     },
     "execution_count": 22,
     "metadata": {},
     "output_type": "execute_result"
    }
   ],
   "source": [
    "reg =  xgb.XGBRegressor(booster= \"gbtree\" ,\n",
    "                                                   objective=\"reg:squarederror\",\n",
    "                                                   eval_metric=\"rmse\",\n",
    "                                                   n_estimators=500,\n",
    "                \n",
    "                                                   random_state=123,\n",
    "                                                   gamma=0,\n",
    "                                                   max_depth=7,\n",
    "                                                   learning_rate=0.03,\n",
    "                                                   min_child_weight=1,\n",
    "                                                   subsample = 0.9,\n",
    "                                                   reg_alpha = 0.01)\n",
    "reg.fit(X_train, y_train,verbose=False)"
   ]
  },
  {
   "cell_type": "code",
   "execution_count": 35,
   "id": "5b1efd0f",
   "metadata": {},
   "outputs": [],
   "source": [
    "import pickle\n",
    "pickle.dump(reg, open(\"average_model.dat\", \"wb\"))\n",
    " \n"
   ]
  },
  {
   "cell_type": "code",
   "execution_count": 23,
   "id": "7d8b33f5",
   "metadata": {},
   "outputs": [
    {
     "name": "stdout",
     "output_type": "stream",
     "text": [
      "(414, 5)\n"
     ]
    },
    {
     "data": {
      "text/html": [
       "<div>\n",
       "<style scoped>\n",
       "    .dataframe tbody tr th:only-of-type {\n",
       "        vertical-align: middle;\n",
       "    }\n",
       "\n",
       "    .dataframe tbody tr th {\n",
       "        vertical-align: top;\n",
       "    }\n",
       "\n",
       "    .dataframe thead th {\n",
       "        text-align: right;\n",
       "    }\n",
       "</style>\n",
       "<table border=\"1\" class=\"dataframe\">\n",
       "  <thead>\n",
       "    <tr style=\"text-align: right;\">\n",
       "      <th></th>\n",
       "      <th>rolling_month</th>\n",
       "      <th>rolling_3month</th>\n",
       "      <th>rolling_week</th>\n",
       "      <th>shift1</th>\n",
       "      <th>prediction</th>\n",
       "    </tr>\n",
       "    <tr>\n",
       "      <th>Date</th>\n",
       "      <th></th>\n",
       "      <th></th>\n",
       "      <th></th>\n",
       "      <th></th>\n",
       "      <th></th>\n",
       "    </tr>\n",
       "  </thead>\n",
       "  <tbody>\n",
       "    <tr>\n",
       "      <th>2022-01-22</th>\n",
       "      <td>10.592519</td>\n",
       "      <td>12.550527</td>\n",
       "      <td>4.728083</td>\n",
       "      <td>23.914909</td>\n",
       "      <td>3.209498</td>\n",
       "    </tr>\n",
       "    <tr>\n",
       "      <th>2022-01-23</th>\n",
       "      <td>11.350355</td>\n",
       "      <td>12.635380</td>\n",
       "      <td>5.748508</td>\n",
       "      <td>25.222000</td>\n",
       "      <td>4.999846</td>\n",
       "    </tr>\n",
       "    <tr>\n",
       "      <th>2022-01-24</th>\n",
       "      <td>11.579730</td>\n",
       "      <td>12.704248</td>\n",
       "      <td>20.175296</td>\n",
       "      <td>22.735091</td>\n",
       "      <td>38.898750</td>\n",
       "    </tr>\n",
       "    <tr>\n",
       "      <th>2022-01-25</th>\n",
       "      <td>11.910563</td>\n",
       "      <td>12.810972</td>\n",
       "      <td>20.483143</td>\n",
       "      <td>22.844182</td>\n",
       "      <td>10.885568</td>\n",
       "    </tr>\n",
       "    <tr>\n",
       "      <th>2022-01-26</th>\n",
       "      <td>12.241787</td>\n",
       "      <td>12.905534</td>\n",
       "      <td>23.808753</td>\n",
       "      <td>24.594000</td>\n",
       "      <td>11.297453</td>\n",
       "    </tr>\n",
       "  </tbody>\n",
       "</table>\n",
       "</div>"
      ],
      "text/plain": [
       "            rolling_month  rolling_3month  rolling_week     shift1  prediction\n",
       "Date                                                                          \n",
       "2022-01-22      10.592519       12.550527      4.728083  23.914909    3.209498\n",
       "2022-01-23      11.350355       12.635380      5.748508  25.222000    4.999846\n",
       "2022-01-24      11.579730       12.704248     20.175296  22.735091   38.898750\n",
       "2022-01-25      11.910563       12.810972     20.483143  22.844182   10.885568\n",
       "2022-01-26      12.241787       12.905534     23.808753  24.594000   11.297453"
      ]
     },
     "execution_count": 23,
     "metadata": {},
     "output_type": "execute_result"
    }
   ],
   "source": [
    "X_test['prediction'] = reg.predict(X_test)\n",
    "print(X_test.shape)\n",
    "X_test.head(5)"
   ]
  },
  {
   "cell_type": "code",
   "execution_count": 24,
   "id": "2926effe",
   "metadata": {},
   "outputs": [
    {
     "data": {
      "text/html": [
       "<div>\n",
       "<style scoped>\n",
       "    .dataframe tbody tr th:only-of-type {\n",
       "        vertical-align: middle;\n",
       "    }\n",
       "\n",
       "    .dataframe tbody tr th {\n",
       "        vertical-align: top;\n",
       "    }\n",
       "\n",
       "    .dataframe thead th {\n",
       "        text-align: right;\n",
       "    }\n",
       "</style>\n",
       "<table border=\"1\" class=\"dataframe\">\n",
       "  <thead>\n",
       "    <tr style=\"text-align: right;\">\n",
       "      <th></th>\n",
       "      <th>Test Predictions</th>\n",
       "      <th>Actuals</th>\n",
       "    </tr>\n",
       "    <tr>\n",
       "      <th>Date</th>\n",
       "      <th></th>\n",
       "      <th></th>\n",
       "    </tr>\n",
       "  </thead>\n",
       "  <tbody>\n",
       "    <tr>\n",
       "      <th>2022-01-22 00:00:00</th>\n",
       "      <td>3.209498</td>\n",
       "      <td>25.222000</td>\n",
       "    </tr>\n",
       "    <tr>\n",
       "      <th>2022-01-23 00:00:00</th>\n",
       "      <td>4.999846</td>\n",
       "      <td>22.735091</td>\n",
       "    </tr>\n",
       "    <tr>\n",
       "      <th>2022-01-24 00:00:00</th>\n",
       "      <td>38.898750</td>\n",
       "      <td>22.844182</td>\n",
       "    </tr>\n",
       "    <tr>\n",
       "      <th>2022-01-25 00:00:00</th>\n",
       "      <td>10.885568</td>\n",
       "      <td>24.594000</td>\n",
       "    </tr>\n",
       "    <tr>\n",
       "      <th>2022-01-26 00:00:00</th>\n",
       "      <td>11.297453</td>\n",
       "      <td>23.279273</td>\n",
       "    </tr>\n",
       "    <tr>\n",
       "      <th>...</th>\n",
       "      <td>...</td>\n",
       "      <td>...</td>\n",
       "    </tr>\n",
       "    <tr>\n",
       "      <th>2022-12-28 00:00:00</th>\n",
       "      <td>13.210714</td>\n",
       "      <td>21.552250</td>\n",
       "    </tr>\n",
       "    <tr>\n",
       "      <th>2022-12-28 01:00:00</th>\n",
       "      <td>8.675838</td>\n",
       "      <td>0.000000</td>\n",
       "    </tr>\n",
       "    <tr>\n",
       "      <th>2022-12-29 00:00:00</th>\n",
       "      <td>9.299638</td>\n",
       "      <td>19.463902</td>\n",
       "    </tr>\n",
       "    <tr>\n",
       "      <th>2022-12-30 00:00:00</th>\n",
       "      <td>17.962826</td>\n",
       "      <td>19.752927</td>\n",
       "    </tr>\n",
       "    <tr>\n",
       "      <th>2022-12-31 00:00:00</th>\n",
       "      <td>17.789244</td>\n",
       "      <td>20.731220</td>\n",
       "    </tr>\n",
       "  </tbody>\n",
       "</table>\n",
       "<p>414 rows × 2 columns</p>\n",
       "</div>"
      ],
      "text/plain": [
       "                     Test Predictions    Actuals\n",
       "Date                                            \n",
       "2022-01-22 00:00:00          3.209498  25.222000\n",
       "2022-01-23 00:00:00          4.999846  22.735091\n",
       "2022-01-24 00:00:00         38.898750  22.844182\n",
       "2022-01-25 00:00:00         10.885568  24.594000\n",
       "2022-01-26 00:00:00         11.297453  23.279273\n",
       "...                               ...        ...\n",
       "2022-12-28 00:00:00         13.210714  21.552250\n",
       "2022-12-28 01:00:00          8.675838   0.000000\n",
       "2022-12-29 00:00:00          9.299638  19.463902\n",
       "2022-12-30 00:00:00         17.962826  19.752927\n",
       "2022-12-31 00:00:00         17.789244  20.731220\n",
       "\n",
       "[414 rows x 2 columns]"
      ]
     },
     "execution_count": 24,
     "metadata": {},
     "output_type": "execute_result"
    }
   ],
   "source": [
    "test_results = pd.DataFrame(data={'Test Predictions':X_test['prediction'] , 'Actuals':y_test})\n",
    "test_results"
   ]
  },
  {
   "cell_type": "code",
   "execution_count": 25,
   "id": "b91f67e2",
   "metadata": {},
   "outputs": [
    {
     "data": {
      "image/png": "[encoded data removed]",
      "text/plain": [
       "<Figure size 1080x360 with 1 Axes>"
      ]
     },
     "metadata": {
      "needs_background": "light"
     },
     "output_type": "display_data"
    }
   ],
   "source": [
    "test_results.plot(style='.',\n",
    "        figsize=(15, 5),\n",
    "        title='daily consumption')\n",
    "plt.show()"
   ]
  },
  {
   "cell_type": "code",
   "execution_count": 26,
   "id": "25c24b70",
   "metadata": {},
   "outputs": [
    {
     "data": {
      "text/plain": [
       "15.122824084995333"
      ]
     },
     "execution_count": 26,
     "metadata": {},
     "output_type": "execute_result"
    }
   ],
   "source": [
    "rmse_test=mean_squared_error(y_test, X_test['prediction'],squared=False)\n",
    "rmse_test"
   ]
  },
  {
   "cell_type": "code",
   "execution_count": 27,
   "id": "888c6ccc",
   "metadata": {},
   "outputs": [
    {
     "data": {
      "text/plain": [
       "13.139031858432114"
      ]
     },
     "execution_count": 27,
     "metadata": {},
     "output_type": "execute_result"
    }
   ],
   "source": [
    "mean_absolute_error(y_test, X_test['prediction'])"
   ]
  },
  {
   "cell_type": "code",
   "execution_count": 28,
   "id": "8ce8a63d",
   "metadata": {},
   "outputs": [
    {
     "name": "stdout",
     "output_type": "stream",
     "text": [
      "0.7539003403580897\n"
     ]
    }
   ],
   "source": [
    "max_value = y_test.max()\n",
    "accuracy = (max_value - rmse_test)/max_value\n",
    "print(accuracy)"
   ]
  },
  {
   "cell_type": "code",
   "execution_count": 29,
   "id": "cf12a564",
   "metadata": {},
   "outputs": [
    {
     "name": "stdout",
     "output_type": "stream",
     "text": [
      "(1084, 5)\n"
     ]
    },
    {
     "data": {
      "text/html": [
       "<div>\n",
       "<style scoped>\n",
       "    .dataframe tbody tr th:only-of-type {\n",
       "        vertical-align: middle;\n",
       "    }\n",
       "\n",
       "    .dataframe tbody tr th {\n",
       "        vertical-align: top;\n",
       "    }\n",
       "\n",
       "    .dataframe thead th {\n",
       "        text-align: right;\n",
       "    }\n",
       "</style>\n",
       "<table border=\"1\" class=\"dataframe\">\n",
       "  <thead>\n",
       "    <tr style=\"text-align: right;\">\n",
       "      <th></th>\n",
       "      <th>rolling_month</th>\n",
       "      <th>rolling_3month</th>\n",
       "      <th>rolling_week</th>\n",
       "      <th>shift1</th>\n",
       "      <th>prediction</th>\n",
       "    </tr>\n",
       "    <tr>\n",
       "      <th>Date</th>\n",
       "      <th></th>\n",
       "      <th></th>\n",
       "      <th></th>\n",
       "      <th></th>\n",
       "      <th></th>\n",
       "    </tr>\n",
       "  </thead>\n",
       "  <tbody>\n",
       "    <tr>\n",
       "      <th>2019-03-29 00:00:00</th>\n",
       "      <td>4.782292</td>\n",
       "      <td>5.273876</td>\n",
       "      <td>5.396786</td>\n",
       "      <td>7.932500</td>\n",
       "      <td>7.057958</td>\n",
       "    </tr>\n",
       "    <tr>\n",
       "      <th>2019-03-30 00:00:00</th>\n",
       "      <td>4.826292</td>\n",
       "      <td>5.189779</td>\n",
       "      <td>5.632500</td>\n",
       "      <td>7.961250</td>\n",
       "      <td>6.208840</td>\n",
       "    </tr>\n",
       "    <tr>\n",
       "      <th>2019-03-31 00:00:00</th>\n",
       "      <td>4.797417</td>\n",
       "      <td>5.082335</td>\n",
       "      <td>5.729464</td>\n",
       "      <td>6.051250</td>\n",
       "      <td>4.813782</td>\n",
       "    </tr>\n",
       "    <tr>\n",
       "      <th>2019-04-01 00:00:00</th>\n",
       "      <td>4.771077</td>\n",
       "      <td>5.032208</td>\n",
       "      <td>5.823724</td>\n",
       "      <td>4.060000</td>\n",
       "      <td>4.030081</td>\n",
       "    </tr>\n",
       "    <tr>\n",
       "      <th>2019-04-01 00:15:00</th>\n",
       "      <td>4.658827</td>\n",
       "      <td>4.938541</td>\n",
       "      <td>5.356760</td>\n",
       "      <td>4.178571</td>\n",
       "      <td>1.306835</td>\n",
       "    </tr>\n",
       "  </tbody>\n",
       "</table>\n",
       "</div>"
      ],
      "text/plain": [
       "                     rolling_month  rolling_3month  rolling_week    shift1  \\\n",
       "Date                                                                         \n",
       "2019-03-29 00:00:00       4.782292        5.273876      5.396786  7.932500   \n",
       "2019-03-30 00:00:00       4.826292        5.189779      5.632500  7.961250   \n",
       "2019-03-31 00:00:00       4.797417        5.082335      5.729464  6.051250   \n",
       "2019-04-01 00:00:00       4.771077        5.032208      5.823724  4.060000   \n",
       "2019-04-01 00:15:00       4.658827        4.938541      5.356760  4.178571   \n",
       "\n",
       "                     prediction  \n",
       "Date                             \n",
       "2019-03-29 00:00:00    7.057958  \n",
       "2019-03-30 00:00:00    6.208840  \n",
       "2019-03-31 00:00:00    4.813782  \n",
       "2019-04-01 00:00:00    4.030081  \n",
       "2019-04-01 00:15:00    1.306835  "
      ]
     },
     "execution_count": 29,
     "metadata": {},
     "output_type": "execute_result"
    }
   ],
   "source": [
    "X_train['prediction'] = reg.predict(X_train)\n",
    "print(X_train.shape)\n",
    "X_train.head(5)"
   ]
  },
  {
   "cell_type": "code",
   "execution_count": 30,
   "id": "252afcf1",
   "metadata": {},
   "outputs": [
    {
     "data": {
      "text/plain": [
       "0.45616673244377365"
      ]
     },
     "execution_count": 30,
     "metadata": {},
     "output_type": "execute_result"
    }
   ],
   "source": [
    "rmse_train=mean_squared_error(y_train, X_train['prediction'],squared=False)\n",
    "rmse_train"
   ]
  },
  {
   "cell_type": "code",
   "execution_count": 31,
   "id": "99f21d92",
   "metadata": {},
   "outputs": [
    {
     "name": "stdout",
     "output_type": "stream",
     "text": [
      "0.9992310457454212\n"
     ]
    }
   ],
   "source": [
    "max_value = y_train.max()\n",
    "accuracy = (max_value - rmse_train)/max_value\n",
    "print(accuracy)"
   ]
  },
  {
   "cell_type": "code",
   "execution_count": 38,
   "id": "73d18b1a",
   "metadata": {},
   "outputs": [
    {
     "data": {
      "image/png": "[encoded data removed]",
      "text/plain": [
       "<Figure size 432x288 with 1 Axes>"
      ]
     },
     "metadata": {
      "needs_background": "light"
     },
     "output_type": "display_data"
    }
   ],
   "source": [
    "fi = pd.DataFrame(data=reg.feature_importances_,\n",
    "             index=reg.feature_names_in_,\n",
    "             columns=['importance'])\n",
    "fi.sort_values('importance').plot(kind='barh', title='Feature Importance')\n",
    "plt.show()"
   ]
  },
  {
   "cell_type": "code",
   "execution_count": null,
   "id": "9ff17df8",
   "metadata": {},
   "outputs": [],
   "source": []
  }
 ],
 "metadata": {
  "kernelspec": {
   "display_name": "Python 3 (ipykernel)",
   "language": "python",
   "name": "python3"
  },
  "language_info": {
   "codemirror_mode": {
    "name": "ipython",
    "version": 3
   },
   "file_extension": ".py",
   "mimetype": "text/x-python",
   "name": "python",
   "nbconvert_exporter": "python",
   "pygments_lexer": "ipython3",
   "version": "3.9.12"
  }
 },
 "nbformat": 4,
 "nbformat_minor": 5
}
